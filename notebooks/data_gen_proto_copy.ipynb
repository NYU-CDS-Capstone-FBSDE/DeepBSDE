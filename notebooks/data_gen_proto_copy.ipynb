{
 "cells": [
  {
   "cell_type": "code",
   "execution_count": 2,
   "metadata": {
    "collapsed": true
   },
   "outputs": [],
   "source": [
    "import pandas as pd\n",
    "import numpy as np\n",
    "#from numpy.random import multivariate_normal as normal"
   ]
  },
  {
   "cell_type": "code",
   "execution_count": 3,
   "metadata": {
    "collapsed": true
   },
   "outputs": [],
   "source": [
    "from scipy.stats import multivariate_normal as normal\n",
    "from scipy.stats import norm\n"
   ]
  },
  {
   "cell_type": "code",
   "execution_count": 4,
   "metadata": {
    "collapsed": true
   },
   "outputs": [],
   "source": [
    "# Sample generator\n",
    "def x_sample_generator(mu, sigma, **args):\n",
    "    \n",
    "    n_sample = args.get(\"n_samples\", 1)\n",
    "    n_dim = args.get(\"n_dim\", 1)\n",
    "    n_t_intvl = args.get(\"n_t_intvl\", 100)\n",
    "    total_t = args.get(\"total_t\", 0.5)\n",
    "    x_init_low = args.get(\"x_init_low\", 70)\n",
    "    x_init_high = args.get(\"x_init_high\", 170)\n",
    "    \n",
    "    d_t = total_t/n_t_intvl\n",
    "    \n",
    "    # n_sample==1 or n_dim==1 does not work for normal.rvs (drops a dimension) -- need to reshape \n",
    "    dw_sample = normal.rvs(size=[n_sample, n_dim, n_t_intvl]) * np.sqrt(d_t)\n",
    "    if n_sample==1 or n_dim==1:\n",
    "        dw_sample = np.reshape(dw_sample, [n_sample, n_dim, n_t_intvl])\n",
    "\n",
    "    x_sample = np.zeros([n_sample, n_dim, n_t_intvl+1])\n",
    "    x_sample[:, :, 0] = np.random.uniform(low=x_init_low, high=x_init_high, size=[n_sample, n_dim])\n",
    "\n",
    "    for i in range(n_t_intvl):\n",
    "        x_sample[:, :, i+1] = x_sample[:,:,i] * (1 + mu * d_t) + (sigma * x_sample[:,:,i] * dw_sample[:,:,i]) \n",
    "    \n",
    "    return x_sample, dw_sample"
   ]
  },
  {
   "cell_type": "code",
   "execution_count": 5,
   "metadata": {
    "collapsed": true
   },
   "outputs": [],
   "source": [
    "# Analytical BlackScholes solution\n",
    "def black_scholes_analytical(S, T, K, r, sigma, option=\"call\"):\n",
    "\n",
    "    d1 = (np.log(S / K) + (r + 0.5 * sigma ** 2) * T) / (sigma * np.sqrt(T))\n",
    "    d2 = (np.log(S / K) + (r - 0.5 * sigma ** 2) * T) / (sigma * np.sqrt(T))\n",
    "    \n",
    "    if option == 'call':\n",
    "        result = (S * norm.cdf(d1, 0.0, 1.0) - K * np.exp(-r * T) * norm.cdf(d2, 0.0, 1.0))\n",
    "    if option == 'put':\n",
    "        result = (K * np.exp(-r * T) * norm.cdf(-d2, 0.0, 1.0) - S * norm.cdf(-d1, 0.0, 1.0))\n",
    "        \n",
    "    return result"
   ]
  },
  {
   "cell_type": "code",
   "execution_count": 70,
   "metadata": {
    "collapsed": true
   },
   "outputs": [],
   "source": [
    "# Genrating samples + plotting black scholes analytical solution for 1 long call option"
   ]
  },
  {
   "cell_type": "code",
   "execution_count": 58,
   "metadata": {
    "collapsed": true
   },
   "outputs": [],
   "source": [
    "x = []\n",
    "u = []\n",
    "for j in range(50):\n",
    "    x_s, _ = x_sample_generator(mu=0.06, sigma=0.2, n_t_intvl=100)\n",
    "    x = x + ([v for v in x_s[0,0,:]])\n",
    "    for i in range(len(x_s[0,0,:])):\n",
    "        c_1 = black_scholes_analytical(x_s[:,:,i], 0.5, 120, 0.06, 0.5)[0,0]\n",
    "        u.append(c_1)"
   ]
  },
  {
   "cell_type": "code",
   "execution_count": 59,
   "metadata": {
    "collapsed": true
   },
   "outputs": [],
   "source": [
    "import matplotlib.pyplot as plt"
   ]
  },
  {
   "cell_type": "code",
   "execution_count": 64,
   "metadata": {
    "scrolled": true
   },
   "outputs": [
    {
     "data": {
      "image/png": "[encoded data removed]",
      "text/plain": [
       "<Figure size 432x288 with 1 Axes>"
      ]
     },
     "metadata": {
      "needs_background": "light"
     },
     "output_type": "display_data"
    }
   ],
   "source": [
    "df= pd.DataFrame({\"x\":x, \"u\":u})\n",
    "df=df.sort_values(\"x\")\n",
    "plt.plot(df.x, df.u)\n",
    "plt.axis([70,170,0,60])\n",
    "plt.show()"
   ]
  },
  {
   "cell_type": "code",
   "execution_count": null,
   "metadata": {
    "collapsed": true
   },
   "outputs": [],
   "source": [
    "# PAYOUT of 1 long + 2 short"
   ]
  },
  {
   "cell_type": "code",
   "execution_count": 66,
   "metadata": {},
   "outputs": [],
   "source": [
    "payout = df.copy()\n",
    "payout[\"long_1\"] = 0\n",
    "payout[\"short_2\"] = 0 \n",
    "payout[\"long_1\"] = payout[\"long_1\"].where(payout.x < 120, df.x-120, axis=0)\n",
    "payout[\"short_2\"] = payout[\"short_2\"].where(payout.x < 150, 2 * (150-df.x), axis=0)\n",
    "payout[\"y\"] = payout[\"long_1\"] + payout[\"short_2\"]"
   ]
  },
  {
   "cell_type": "code",
   "execution_count": 69,
   "metadata": {},
   "outputs": [
    {
     "data": {
      "image/png": "[encoded data removed]",
      "text/plain": [
       "<Figure size 432x288 with 1 Axes>"
      ]
     },
     "metadata": {
      "needs_background": "light"
     },
     "output_type": "display_data"
    }
   ],
   "source": [
    "plt.plot(payout.x, payout.y)\n",
    "plt.axis([50,230,-40,40])\n",
    "plt.show()"
   ]
  },
  {
   "cell_type": "code",
   "execution_count": null,
   "metadata": {
    "collapsed": true
   },
   "outputs": [],
   "source": []
  },
  {
   "cell_type": "code",
   "execution_count": 62,
   "metadata": {
    "collapsed": true
   },
   "outputs": [],
   "source": [
    "from scipy.interpolate import make_interp_spline"
   ]
  },
  {
   "cell_type": "code",
   "execution_count": 63,
   "metadata": {},
   "outputs": [
    {
     "data": {
      "image/png": "[encoded data removed]",
      "text/plain": [
       "<Figure size 432x288 with 1 Axes>"
      ]
     },
     "metadata": {
      "needs_background": "light"
     },
     "output_type": "display_data"
    }
   ],
   "source": [
    "X_Y_Spline = make_interp_spline(df.x, df.u)\n",
    "X_ = np.linspace(70, 170, 500)\n",
    "Y_ = X_Y_Spline(X_)\n",
    "plt.plot(X_, Y_)\n",
    "plt.title(\"Plot Smooth Curve Using the scipy.interpolate.make_interp_spline() Class\")\n",
    "plt.xlabel(\"X\")\n",
    "plt.ylabel(\"Y\")\n",
    "plt.show()"
   ]
  },
  {
   "cell_type": "code",
   "execution_count": null,
   "metadata": {
    "collapsed": true
   },
   "outputs": [],
   "source": []
  }
 ],
 "metadata": {
  "kernelspec": {
   "display_name": "Python 3",
   "language": "python",
   "name": "python3"
  },
  "language_info": {
   "codemirror_mode": {
    "name": "ipython",
    "version": 3
   },
   "file_extension": ".py",
   "mimetype": "text/x-python",
   "name": "python",
   "nbconvert_exporter": "python",
   "pygments_lexer": "ipython3",
   "version": "3.6.3"
  }
 },
 "nbformat": 4,
 "nbformat_minor": 2
}
